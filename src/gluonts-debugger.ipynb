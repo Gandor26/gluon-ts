{
 "cells": [
  {
   "cell_type": "code",
   "execution_count": 1,
   "metadata": {
    "tags": []
   },
   "outputs": [],
   "source": [
    "%load_ext autoreload\n",
    "%autoreload 2\n",
    "%matplotlib inline"
   ]
  },
  {
   "cell_type": "code",
   "execution_count": 2,
   "metadata": {},
   "outputs": [],
   "source": [
    "import sagemaker\n",
    "import boto3\n",
    "import json\n",
    "import tempfile\n",
    "import inspect\n",
    "\n",
    "import pandas as pd\n",
    "import numpy as np\n",
    "from matplotlib import pyplot as plt\n",
    "from tqdm import tqdm\n",
    "\n",
    "import mxnet as mx\n",
    "from mxnet import gluon\n",
    "from gluonts.dataset.common import ListDataset\n",
    "from gluonts.dataset.loader import (\n",
    "    TrainDataLoader, ValidationDataLoader, InferenceDataLoader\n",
    ")\n",
    "from gluonts.dataset.repository.datasets import get_dataset\n",
    "from gluonts.model.deepar import DeepAREstimator\n",
    "from gluonts.trainer import Trainer\n",
    "from gluonts.support.util import get_hybrid_forward_input_names, HybridContext\n",
    "from gluonts.trainer import learning_rate_scheduler as lrs"
   ]
  },
  {
   "cell_type": "code",
   "execution_count": 3,
   "metadata": {},
   "outputs": [],
   "source": [
    "from gluonts.model.tft import *"
   ]
  },
  {
   "cell_type": "code",
   "execution_count": 4,
   "metadata": {},
   "outputs": [],
   "source": [
    "data = get_dataset('electricity')"
   ]
  },
  {
   "cell_type": "code",
   "execution_count": 5,
   "metadata": {},
   "outputs": [],
   "source": [
    "estimator = TemporalFusionTransformerEstimator(\n",
    "    freq='h',\n",
    "    prediction_length=24,\n",
    "    context_length=168,\n",
    "    hidden_dim=64,\n",
    "    variable_dim=16,\n",
    "    num_heads=4,\n",
    "    num_outputs=3,\n",
    "    static_cardinalities={'feat_static_cat': 321},\n",
    ")\n",
    "transformation = estimator.create_transformation()\n",
    "training_data_loader = TrainDataLoader(\n",
    "    dataset=data.train,\n",
    "    transform=transformation,\n",
    "    batch_size=estimator.trainer.batch_size,\n",
    "    num_batches_per_epoch=estimator.trainer.num_batches_per_epoch,\n",
    "    ctx=estimator.trainer.ctx,\n",
    "    dtype=estimator.dtype,\n",
    "    num_workers=None,\n",
    "    num_prefetch=None,\n",
    "    shuffle_buffer_length=None,\n",
    ")"
   ]
  },
  {
   "cell_type": "code",
   "execution_count": 6,
   "metadata": {
    "tags": []
   },
   "outputs": [
    {
     "output_type": "stream",
     "name": "stdout",
     "text": "learning rate from ``lr_scheduler`` has been overwritten by ``learning_rate`` in optimizer.\n[3.401213]\n[2.83992]\n[1.7574481]\n[4.8020363]\n[3.8611]\n"
    },
    {
     "output_type": "error",
     "ename": "KeyboardInterrupt",
     "evalue": "",
     "traceback": [
      "\u001b[0;31m---------------------------------------------------------------------------\u001b[0m",
      "\u001b[0;31mKeyboardInterrupt\u001b[0m                         Traceback (most recent call last)",
      "\u001b[0;32m<ipython-input-6-9c591a36b56d>\u001b[0m in \u001b[0;36m<module>\u001b[0;34m\u001b[0m\n\u001b[1;32m     65\u001b[0m             \u001b[0mloss\u001b[0m\u001b[0;34m.\u001b[0m\u001b[0mbackward\u001b[0m\u001b[0;34m(\u001b[0m\u001b[0;34m)\u001b[0m\u001b[0;34m\u001b[0m\u001b[0;34m\u001b[0m\u001b[0m\n\u001b[1;32m     66\u001b[0m             \u001b[0mtrainer\u001b[0m\u001b[0;34m.\u001b[0m\u001b[0mstep\u001b[0m\u001b[0;34m(\u001b[0m\u001b[0mbatch_size\u001b[0m\u001b[0;34m)\u001b[0m\u001b[0;34m\u001b[0m\u001b[0;34m\u001b[0m\u001b[0m\n\u001b[0;32m---> 67\u001b[0;31m             \u001b[0mepoch_loss\u001b[0m\u001b[0;34m.\u001b[0m\u001b[0mupdate\u001b[0m\u001b[0;34m(\u001b[0m\u001b[0;32mNone\u001b[0m\u001b[0;34m,\u001b[0m \u001b[0mpreds\u001b[0m\u001b[0;34m=\u001b[0m\u001b[0mloss\u001b[0m\u001b[0;34m)\u001b[0m\u001b[0;34m\u001b[0m\u001b[0;34m\u001b[0m\u001b[0m\n\u001b[0m\u001b[1;32m     68\u001b[0m             \u001b[0mlv\u001b[0m \u001b[0;34m=\u001b[0m \u001b[0mepoch_loss\u001b[0m\u001b[0;34m.\u001b[0m\u001b[0mget_name_value\u001b[0m\u001b[0;34m(\u001b[0m\u001b[0;34m)\u001b[0m\u001b[0;34m[\u001b[0m\u001b[0;36m0\u001b[0m\u001b[0;34m]\u001b[0m\u001b[0;34m[\u001b[0m\u001b[0;36m1\u001b[0m\u001b[0;34m]\u001b[0m\u001b[0;34m\u001b[0m\u001b[0;34m\u001b[0m\u001b[0m\n\u001b[1;32m     69\u001b[0m             \u001b[0;32mif\u001b[0m \u001b[0;32mnot\u001b[0m \u001b[0mnp\u001b[0m\u001b[0;34m.\u001b[0m\u001b[0misfinite\u001b[0m\u001b[0;34m(\u001b[0m\u001b[0mlv\u001b[0m\u001b[0;34m)\u001b[0m\u001b[0;34m:\u001b[0m\u001b[0;34m\u001b[0m\u001b[0;34m\u001b[0m\u001b[0m\n",
      "\u001b[0;32m~/miniconda3/envs/gluon/lib/python3.7/site-packages/mxnet/metric.py\u001b[0m in \u001b[0;36mupdate\u001b[0;34m(self, _, preds)\u001b[0m\n\u001b[1;32m   1685\u001b[0m \u001b[0;34m\u001b[0m\u001b[0m\n\u001b[1;32m   1686\u001b[0m         \u001b[0;32mfor\u001b[0m \u001b[0mpred\u001b[0m \u001b[0;32min\u001b[0m \u001b[0mpreds\u001b[0m\u001b[0;34m:\u001b[0m\u001b[0;34m\u001b[0m\u001b[0;34m\u001b[0m\u001b[0m\n\u001b[0;32m-> 1687\u001b[0;31m             \u001b[0mloss\u001b[0m \u001b[0;34m=\u001b[0m \u001b[0mndarray\u001b[0m\u001b[0;34m.\u001b[0m\u001b[0msum\u001b[0m\u001b[0;34m(\u001b[0m\u001b[0mpred\u001b[0m\u001b[0;34m)\u001b[0m\u001b[0;34m.\u001b[0m\u001b[0masscalar\u001b[0m\u001b[0;34m(\u001b[0m\u001b[0;34m)\u001b[0m\u001b[0;34m\u001b[0m\u001b[0;34m\u001b[0m\u001b[0m\n\u001b[0m\u001b[1;32m   1688\u001b[0m             \u001b[0mself\u001b[0m\u001b[0;34m.\u001b[0m\u001b[0msum_metric\u001b[0m \u001b[0;34m+=\u001b[0m \u001b[0mloss\u001b[0m\u001b[0;34m\u001b[0m\u001b[0;34m\u001b[0m\u001b[0m\n\u001b[1;32m   1689\u001b[0m             \u001b[0mself\u001b[0m\u001b[0;34m.\u001b[0m\u001b[0mglobal_sum_metric\u001b[0m \u001b[0;34m+=\u001b[0m \u001b[0mloss\u001b[0m\u001b[0;34m\u001b[0m\u001b[0;34m\u001b[0m\u001b[0m\n",
      "\u001b[0;32m~/miniconda3/envs/gluon/lib/python3.7/site-packages/mxnet/ndarray/ndarray.py\u001b[0m in \u001b[0;36masscalar\u001b[0;34m(self)\u001b[0m\n\u001b[1;32m   2551\u001b[0m         \u001b[0;32mif\u001b[0m \u001b[0mself\u001b[0m\u001b[0;34m.\u001b[0m\u001b[0mshape\u001b[0m \u001b[0;34m!=\u001b[0m \u001b[0;34m(\u001b[0m\u001b[0;36m1\u001b[0m\u001b[0;34m,\u001b[0m\u001b[0;34m)\u001b[0m\u001b[0;34m:\u001b[0m\u001b[0;34m\u001b[0m\u001b[0;34m\u001b[0m\u001b[0m\n\u001b[1;32m   2552\u001b[0m             \u001b[0;32mraise\u001b[0m \u001b[0mValueError\u001b[0m\u001b[0;34m(\u001b[0m\u001b[0;34m\"The current array is not a scalar\"\u001b[0m\u001b[0;34m)\u001b[0m\u001b[0;34m\u001b[0m\u001b[0;34m\u001b[0m\u001b[0m\n\u001b[0;32m-> 2553\u001b[0;31m         \u001b[0;32mreturn\u001b[0m \u001b[0mself\u001b[0m\u001b[0;34m.\u001b[0m\u001b[0masnumpy\u001b[0m\u001b[0;34m(\u001b[0m\u001b[0;34m)\u001b[0m\u001b[0;34m[\u001b[0m\u001b[0;36m0\u001b[0m\u001b[0;34m]\u001b[0m\u001b[0;34m\u001b[0m\u001b[0;34m\u001b[0m\u001b[0m\n\u001b[0m\u001b[1;32m   2554\u001b[0m \u001b[0;34m\u001b[0m\u001b[0m\n\u001b[1;32m   2555\u001b[0m     \u001b[0;32mdef\u001b[0m \u001b[0mastype\u001b[0m\u001b[0;34m(\u001b[0m\u001b[0mself\u001b[0m\u001b[0;34m,\u001b[0m \u001b[0mdtype\u001b[0m\u001b[0;34m,\u001b[0m \u001b[0mcopy\u001b[0m\u001b[0;34m=\u001b[0m\u001b[0;32mTrue\u001b[0m\u001b[0;34m)\u001b[0m\u001b[0;34m:\u001b[0m\u001b[0;34m\u001b[0m\u001b[0;34m\u001b[0m\u001b[0m\n",
      "\u001b[0;32m~/miniconda3/envs/gluon/lib/python3.7/site-packages/mxnet/ndarray/ndarray.py\u001b[0m in \u001b[0;36masnumpy\u001b[0;34m(self)\u001b[0m\n\u001b[1;32m   2533\u001b[0m             \u001b[0mself\u001b[0m\u001b[0;34m.\u001b[0m\u001b[0mhandle\u001b[0m\u001b[0;34m,\u001b[0m\u001b[0;34m\u001b[0m\u001b[0;34m\u001b[0m\u001b[0m\n\u001b[1;32m   2534\u001b[0m             \u001b[0mdata\u001b[0m\u001b[0;34m.\u001b[0m\u001b[0mctypes\u001b[0m\u001b[0;34m.\u001b[0m\u001b[0mdata_as\u001b[0m\u001b[0;34m(\u001b[0m\u001b[0mctypes\u001b[0m\u001b[0;34m.\u001b[0m\u001b[0mc_void_p\u001b[0m\u001b[0;34m)\u001b[0m\u001b[0;34m,\u001b[0m\u001b[0;34m\u001b[0m\u001b[0;34m\u001b[0m\u001b[0m\n\u001b[0;32m-> 2535\u001b[0;31m             ctypes.c_size_t(data.size)))\n\u001b[0m\u001b[1;32m   2536\u001b[0m         \u001b[0;32mreturn\u001b[0m \u001b[0mdata\u001b[0m\u001b[0;34m\u001b[0m\u001b[0;34m\u001b[0m\u001b[0m\n\u001b[1;32m   2537\u001b[0m \u001b[0;34m\u001b[0m\u001b[0m\n",
      "\u001b[0;31mKeyboardInterrupt\u001b[0m: "
     ]
    }
   ],
   "source": [
    "with estimator.trainer.ctx:\n",
    "    train_net = estimator.create_training_network()\n",
    "train_net.initialize(ctx=estimator.trainer.ctx)\n",
    "input_names = get_hybrid_forward_input_names(train_net)\n",
    "with HybridContext(\n",
    "    net=train_net,\n",
    "    hybridize=False,\n",
    "    static_alloc=True,\n",
    "    static_shape=True,\n",
    "):\n",
    "    batch_size = training_data_loader.batch_size\n",
    "    lr_scheduler = lrs.MetricAttentiveScheduler(\n",
    "        objective=\"min\",\n",
    "        patience=estimator.trainer.patience,\n",
    "        decay_factor=estimator.trainer.learning_rate_decay_factor,\n",
    "        min_lr=estimator.trainer.minimum_learning_rate,\n",
    "    )\n",
    "    optimizer = mx.optimizer.Adam(\n",
    "        learning_rate=estimator.trainer.learning_rate,\n",
    "        lr_scheduler=lr_scheduler,\n",
    "        wd=estimator.trainer.weight_decay,\n",
    "        clip_gradient=estimator.trainer.clip_gradient,\n",
    "    )\n",
    "    trainer = mx.gluon.Trainer(\n",
    "        train_net.collect_params(),\n",
    "        optimizer=optimizer,\n",
    "        kvstore=\"device\",\n",
    "    )\n",
    "    \n",
    "    for epoch_no in range(estimator.trainer.epochs):\n",
    "        if estimator.trainer.halt:\n",
    "            break\n",
    "        curr_lr = trainer.learning_rate\n",
    "        epoch_loss = mx.metric.Loss()\n",
    "        for batch_no, data_entry in enumerate(training_data_loader, 1):\n",
    "            if estimator.trainer.halt:\n",
    "                break\n",
    "            args = inspect.signature(train_net.hybrid_forward).parameters\n",
    "            inputs = []\n",
    "            for n, (name, arg) in enumerate(args.items()):\n",
    "                if n == 0:\n",
    "                    if name == 'F':\n",
    "                        continue\n",
    "                    else:\n",
    "                        raise RuntimeError(\n",
    "                            f\"Expected first argument of HybridBlock to be `F`, \"\n",
    "                            f\"but found `{param_names[0]}`\"\n",
    "                        )\n",
    "                if name in data_entry:\n",
    "                    inputs.append(data_entry[name])\n",
    "                elif not (arg.default is inspect._empty):\n",
    "                    inputs.append(arg.default)\n",
    "                else:\n",
    "                    raise RuntimeError(\n",
    "                        f\"The value of argument `{name}` of HybridBlock is not provided, \"\n",
    "                        f\"and no default value is given.\"\n",
    "                    )\n",
    "            with mx.autograd.record():\n",
    "                output = train_net(*inputs)\n",
    "                if isinstance(output, (list, tuple)):\n",
    "                    loss = output[0]\n",
    "                else:\n",
    "                    loss = output\n",
    "                print(loss.asnumpy())\n",
    "            loss.backward()\n",
    "            trainer.step(batch_size)\n",
    "            epoch_loss.update(None, preds=loss)\n",
    "            lv = epoch_loss.get_name_value()[0][1]\n",
    "            if not np.isfinite(lv):\n",
    "                print(f\"Epoch{epoch_no} gave nan loss\")\n",
    "        should_continue = lr_scheduler.step(epoch_loss.get_name_value()[0][1]) \n",
    "        if not should_continue:\n",
    "            print(\"Stopping training\")\n",
    "            break"
   ]
  },
  {
   "cell_type": "code",
   "execution_count": 7,
   "metadata": {},
   "outputs": [],
   "source": [
    "it =estimator.create_predictor(transformation, train_net).predict(data.test)"
   ]
  },
  {
   "cell_type": "code",
   "execution_count": 8,
   "metadata": {},
   "outputs": [
    {
     "output_type": "execute_result",
     "data": {
      "text/plain": "QuantileForecast(array([[15.701146 , 15.933726 , 16.086489 , 16.190166 , 14.944334 ,\n        15.047554 , 15.084908 , 15.078518 , 15.045128 , 14.997371 ,\n        14.946486 , 14.905204 , 14.888753 , 14.913998 , 14.991172 ,\n        15.114402 , 15.261231 , 15.405194 , 15.535284 , 15.6496935,\n        15.747926 , 15.831028 , 15.901478 , 15.961993 ],\n       [-4.3144903, -4.0334826, -3.7718096, -3.5304308, -6.078389 ,\n        -6.512109 , -6.87024  , -7.212331 , -7.5642233, -7.9372187,\n        -8.331906 , -8.733825 , -9.10871  , -9.396594 , -9.514503 ,\n        -9.386939 , -9.001687 , -8.421546 , -7.7481394, -7.073148 ,\n        -6.441493 , -5.8694124, -5.3613176, -4.913842 ],\n       [42.326935 , 42.24982  , 42.07966  , 41.872448 , 37.762405 ,\n        38.253376 , 38.763416 , 39.31705  , 39.9351   , 40.635895 ,\n        41.433567 , 42.331944 , 43.313763 , 44.324123 , 45.256214 ,\n        45.965775 , 46.332767 , 46.32603  , 46.02235  , 45.543823 ,\n        44.99133  , 44.428432 , 43.891773 , 43.397438 ]], dtype=float32)), start_date=Timestamp('2014-05-27 20:00:00', freq='H'), freq='h', forecast_keys=['0.5', '0.1', '0.9'], item_id=0, info=None)"
     },
     "metadata": {},
     "execution_count": 8
    }
   ],
   "source": [
    "next(it)"
   ]
  },
  {
   "cell_type": "code",
   "execution_count": null,
   "metadata": {},
   "outputs": [],
   "source": []
  }
 ],
 "metadata": {
  "kernelspec": {
   "display_name": "Python 3.7.7 64-bit ('gluon': conda)",
   "language": "python",
   "name": "python_defaultSpec_1595584197897"
  },
  "language_info": {
   "codemirror_mode": {
    "name": "ipython",
    "version": 3
   },
   "file_extension": ".py",
   "mimetype": "text/x-python",
   "name": "python",
   "nbconvert_exporter": "python",
   "pygments_lexer": "ipython3",
   "version": "3.7.7-final"
  }
 },
 "nbformat": 4,
 "nbformat_minor": 4
}