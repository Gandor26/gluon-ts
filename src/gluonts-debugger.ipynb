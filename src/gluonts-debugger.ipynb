{
 "cells": [
  {
   "cell_type": "code",
   "execution_count": 1,
   "metadata": {
    "tags": []
   },
   "outputs": [],
   "source": [
    "%load_ext autoreload\n",
    "%autoreload 2\n",
    "%matplotlib inline"
   ]
  },
  {
   "cell_type": "code",
   "execution_count": 2,
   "metadata": {},
   "outputs": [],
   "source": [
    "import sagemaker\n",
    "import boto3\n",
    "import json\n",
    "\n",
    "import pandas as pd\n",
    "import numpy as np\n",
    "from matplotlib import pyplot as plt\n",
    "\n",
    "import mxnet as mx\n",
    "from mxnet import gluon\n",
    "from gluonts.dataset.common import ListDataset\n",
    "from gluonts.dataset.loader import (\n",
    "    TrainDataLoader, ValidationDataLoader, InferenceDataLoader\n",
    ")\n",
    "from gluonts.dataset.repository.datasets import get_dataset\n",
    "from gluonts.model.deepar import DeepAREstimator\n",
    "from gluonts.support.util import get_hybrid_forward_input_names"
   ]
  },
  {
   "cell_type": "code",
   "execution_count": 3,
   "metadata": {},
   "outputs": [],
   "source": [
    "from gluonts.model.san import *"
   ]
  },
  {
   "cell_type": "code",
   "execution_count": 4,
   "metadata": {},
   "outputs": [],
   "source": [
    "estimator = SelfAttentionEstimator(\n",
    "    freq='h',\n",
    "    prediction_length=24,\n",
    "    context_length=168,\n",
    "    model_dim=64,\n",
    "    ffn_dim_multiplier=2,\n",
    "    num_heads=4,\n",
    "    num_layers=3,\n",
    "    num_outputs=3,\n",
    "    cardinalities=[370],\n",
    "    kernel_sizes=[5,9],\n",
    "    distance_encoding='dot',\n",
    "    use_feat_dynamic_cat=False,\n",
    "    use_feat_dynamic_real=False,\n",
    "    use_feat_static_cat=True,\n",
    "    use_feat_static_real=False,\n",
    ")"
   ]
  },
  {
   "cell_type": "code",
   "execution_count": 5,
   "metadata": {},
   "outputs": [],
   "source": [
    "from gluonts.dataset.repository.datasets import get_dataset"
   ]
  },
  {
   "cell_type": "code",
   "execution_count": 6,
   "metadata": {},
   "outputs": [],
   "source": [
    "tds = get_dataset('electricity')"
   ]
  },
  {
   "cell_type": "code",
   "execution_count": 7,
   "metadata": {},
   "outputs": [],
   "source": [
    "loader = TrainDataLoader(\n",
    "    dataset=tds.train,\n",
    "    transform=estimator.create_transformation(),\n",
    "    batch_size=3,\n",
    "    ctx=mx.cpu(),\n",
    "    num_batches_per_epoch=100,\n",
    ")"
   ]
  },
  {
   "cell_type": "code",
   "execution_count": 8,
   "metadata": {},
   "outputs": [],
   "source": [
    "out = next(iter(loader))"
   ]
  },
  {
   "cell_type": "code",
   "execution_count": 9,
   "metadata": {},
   "outputs": [
    {
     "output_type": "execute_result",
     "data": {
      "text/plain": "dict_keys(['start', 'feat_static_cat', 'item_id', 'source', 'feat_static_real', 'past_observed_values', 'future_observed_values', 'past_feat_dynamic_real', 'future_feat_dynamic_real', 'past_target', 'future_target', 'past_is_pad', 'forecast_start', 'past_feat_dynamic_cat', 'future_feat_dynamic_cat'])"
     },
     "metadata": {},
     "execution_count": 9
    }
   ],
   "source": [
    "out.keys()"
   ]
  },
  {
   "cell_type": "code",
   "execution_count": 10,
   "metadata": {},
   "outputs": [],
   "source": [
    "network = estimator.create_training_network()\n",
    "network.initialize(ctx=mx.cpu())"
   ]
  },
  {
   "cell_type": "code",
   "execution_count": 11,
   "metadata": {},
   "outputs": [],
   "source": [
    "input_names = get_hybrid_forward_input_names(network)\n",
    "inputs = [out[k] for k in input_names]"
   ]
  },
  {
   "cell_type": "code",
   "execution_count": 17,
   "metadata": {
    "tags": []
   },
   "outputs": [
    {
     "output_type": "execute_result",
     "data": {
      "text/plain": "\n[952.7119]\n<NDArray 1 @cpu(0)>"
     },
     "metadata": {},
     "execution_count": 17
    }
   ],
   "source": [
    "network(*inputs)"
   ]
  },
  {
   "cell_type": "code",
   "execution_count": 18,
   "metadata": {},
   "outputs": [],
   "source": [
    "predictor = estimator.create_predictor(\n",
    "    estimator.create_transformation(),\n",
    "    network,\n",
    ")"
   ]
  },
  {
   "cell_type": "code",
   "execution_count": 23,
   "metadata": {},
   "outputs": [],
   "source": [
    "pnet = predictor.prediction_net"
   ]
  },
  {
   "cell_type": "code",
   "execution_count": 21,
   "metadata": {
    "tags": []
   },
   "outputs": [],
   "source": [
    "tload = InferenceDataLoader(\n",
    "    dataset=tds.test,\n",
    "    transform=estimator.create_transformation(),\n",
    "    batch_size=3,\n",
    "    ctx=mx.cpu(),\n",
    ")"
   ]
  },
  {
   "cell_type": "code",
   "execution_count": 22,
   "metadata": {},
   "outputs": [],
   "source": [
    "out = next(iter(loader))"
   ]
  },
  {
   "cell_type": "code",
   "execution_count": 24,
   "metadata": {},
   "outputs": [],
   "source": [
    "input_names = get_hybrid_forward_input_names(pnet)\n",
    "inputs = [out[k] for k in input_names]"
   ]
  },
  {
   "cell_type": "code",
   "execution_count": 29,
   "metadata": {},
   "outputs": [],
   "source": [
    "pr = pnet(*inputs)"
   ]
  },
  {
   "cell_type": "code",
   "execution_count": null,
   "metadata": {},
   "outputs": [],
   "source": []
  }
 ],
 "metadata": {
  "kernelspec": {
   "display_name": "Python 3.7.7 64-bit ('gluon': conda)",
   "language": "python",
   "name": "python_defaultSpec_1595202834209"
  },
  "language_info": {
   "codemirror_mode": {
    "name": "ipython",
    "version": 3
   },
   "file_extension": ".py",
   "mimetype": "text/x-python",
   "name": "python",
   "nbconvert_exporter": "python",
   "pygments_lexer": "ipython3",
   "version": "3.7.7-final"
  }
 },
 "nbformat": 4,
 "nbformat_minor": 4
}