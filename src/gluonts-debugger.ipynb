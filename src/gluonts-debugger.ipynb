{
 "cells": [
  {
   "cell_type": "code",
   "execution_count": 1,
   "metadata": {
    "tags": []
   },
   "outputs": [],
   "source": [
    "%load_ext autoreload\n",
    "%autoreload 2\n",
    "%matplotlib inline"
   ]
  },
  {
   "cell_type": "code",
   "execution_count": 2,
   "metadata": {},
   "outputs": [],
   "source": [
    "import sagemaker\n",
    "import boto3\n",
    "import json\n",
    "\n",
    "import pandas as pd\n",
    "import numpy as np\n",
    "from matplotlib import pyplot as plt\n",
    "\n",
    "import mxnet as mx\n",
    "from mxnet import gluon\n",
    "from gluonts.dataset.common import ListDataset\n",
    "from gluonts.dataset.loader import (\n",
    "    TrainDataLoader, ValidationDataLoader, InferenceDataLoader\n",
    ")\n",
    "from gluonts.dataset.repository.datasets import get_dataset\n",
    "from gluonts.model.deepar import DeepAREstimator"
   ]
  },
  {
   "cell_type": "code",
   "execution_count": 3,
   "metadata": {},
   "outputs": [],
   "source": [
    "from gluonts.model.san import *"
   ]
  },
  {
   "cell_type": "code",
   "execution_count": 4,
   "metadata": {},
   "outputs": [],
   "source": [
    "estimator = SelfAttentionEstimator(\n",
    "    freq='h',\n",
    "    prediction_length=24,\n",
    "    context_length=168,\n",
    "    data_dim=1,\n",
    "    model_dim=64,\n",
    "    ffn_dim_multiplier=2,\n",
    "    num_heads=4,\n",
    "    num_layers=3,\n",
    "    num_outputs=3,\n",
    "    cardinalities=[370],\n",
    "    kernel_sizes=[5,9],\n",
    "    distance_encoding='dot',\n",
    "    use_feat_dynamic_cat=False,\n",
    "    use_feat_dynamic_real=False,\n",
    "    use_feat_static_cat=True,\n",
    "    use_feat_static_real=False,\n",
    ")"
   ]
  },
  {
   "cell_type": "code",
   "execution_count": 5,
   "metadata": {},
   "outputs": [],
   "source": [
    "from gluonts.dataset.repository.datasets import get_dataset"
   ]
  },
  {
   "cell_type": "code",
   "execution_count": 6,
   "metadata": {},
   "outputs": [],
   "source": [
    "tds = get_dataset('electricity')"
   ]
  },
  {
   "cell_type": "code",
   "execution_count": 7,
   "metadata": {},
   "outputs": [],
   "source": [
    "transform = estimator.create_transformation()"
   ]
  },
  {
   "cell_type": "code",
   "execution_count": 8,
   "metadata": {},
   "outputs": [],
   "source": [
    "loader = TrainDataLoader(\n",
    "    dataset=tds.train,\n",
    "    transform=transform,\n",
    "    batch_size=3,\n",
    "    ctx=mx.cpu(),\n",
    "    num_batches_per_epoch=100,\n",
    ")"
   ]
  },
  {
   "cell_type": "code",
   "execution_count": 9,
   "metadata": {},
   "outputs": [],
   "source": [
    "image = next(iter(loader))"
   ]
  },
  {
   "cell_type": "code",
   "execution_count": 10,
   "metadata": {},
   "outputs": [],
   "source": [
    "out = next(transform(tds.train, True))"
   ]
  },
  {
   "cell_type": "code",
   "execution_count": 11,
   "metadata": {},
   "outputs": [
    {
     "output_type": "execute_result",
     "data": {
      "text/plain": "dict_keys(['start', 'feat_static_cat', 'item_id', 'source', 'feat_static_real', 'past_observed_values', 'future_observed_values', 'past_feat_dynamic_real', 'future_feat_dynamic_real', 'past_target', 'future_target', 'past_is_pad', 'forecast_start', 'past_feat_dynamic_cat', 'future_feat_dynamic_cat'])"
     },
     "metadata": {},
     "execution_count": 11
    }
   ],
   "source": [
    "out.keys()"
   ]
  },
  {
   "cell_type": "code",
   "execution_count": 12,
   "metadata": {},
   "outputs": [
    {
     "output_type": "execute_result",
     "data": {
      "text/plain": "Timestamp('2012-01-01 00:00:00', freq='H')"
     },
     "metadata": {},
     "execution_count": 12
    }
   ],
   "source": [
    "out.pop('forecast_start')\n",
    "out.pop('source')\n",
    "out.pop('item_id')\n",
    "out.pop('start')"
   ]
  },
  {
   "cell_type": "code",
   "execution_count": 13,
   "metadata": {},
   "outputs": [
    {
     "output_type": "execute_result",
     "data": {
      "text/plain": "dict_keys(['feat_static_cat', 'feat_static_real', 'past_observed_values', 'future_observed_values', 'past_feat_dynamic_real', 'future_feat_dynamic_real', 'past_target', 'future_target', 'past_is_pad', 'past_feat_dynamic_cat', 'future_feat_dynamic_cat'])"
     },
     "metadata": {},
     "execution_count": 13
    }
   ],
   "source": [
    "out.keys()"
   ]
  },
  {
   "cell_type": "code",
   "execution_count": 22,
   "metadata": {},
   "outputs": [
    {
     "output_type": "execute_result",
     "data": {
      "text/plain": "array([0., 0., 0., 0., 0., 0., 0., 0., 0., 0., 0., 0., 0., 0., 0., 0., 0.,\n       0., 0., 0., 0., 0., 0., 0., 0., 0., 0., 0., 0., 0., 0., 0., 0., 0.,\n       0., 0., 0., 0., 0., 0., 0., 0., 0., 0., 0., 0., 0., 0., 0., 0., 0.,\n       0., 0., 0., 0., 0., 0., 0., 0., 0., 0., 0., 0., 0., 0., 0., 0., 0.,\n       0., 0., 0., 0., 0., 0., 0., 0., 0., 0., 0., 0., 0., 0., 0., 0., 0.,\n       0., 0., 0., 0., 0., 0., 0., 0., 0., 0., 0., 0., 0., 0., 0., 0., 0.,\n       0., 0., 0., 0., 0., 0., 0., 0., 0., 0., 0., 0., 0., 0., 0., 0., 0.,\n       0., 0., 0., 0., 0., 0., 0., 0., 0., 0., 0., 0., 0., 0., 0., 0., 0.,\n       0., 0., 0., 0., 0., 0., 0., 0., 0., 0., 0., 0., 0., 0., 0., 0., 0.,\n       0., 0., 0., 0., 0., 0., 0., 0., 0., 0., 0., 0., 0., 0., 0.])"
     },
     "metadata": {},
     "execution_count": 22
    }
   ],
   "source": [
    "out['past_is_pad']"
   ]
  },
  {
   "cell_type": "code",
   "execution_count": 13,
   "metadata": {},
   "outputs": [],
   "source": [
    "network = estimator.create_training_network()"
   ]
  },
  {
   "cell_type": "code",
   "execution_count": 14,
   "metadata": {},
   "outputs": [],
   "source": [
    "network.initialize()"
   ]
  },
  {
   "cell_type": "code",
   "execution_count": 15,
   "metadata": {},
   "outputs": [
    {
     "output_type": "error",
     "ename": "SyntaxError",
     "evalue": "invalid syntax (<ipython-input-15-0edd6bb05347>, line 3)",
     "traceback": [
      "\u001b[0;36m  File \u001b[0;32m\"<ipython-input-15-0edd6bb05347>\"\u001b[0;36m, line \u001b[0;32m3\u001b[0m\n\u001b[0;31m    past_feat_dynamic_real: Optional[Tensor],\u001b[0m\n\u001b[0m                          ^\u001b[0m\n\u001b[0;31mSyntaxError\u001b[0m\u001b[0;31m:\u001b[0m invalid syntax\n"
     ]
    }
   ],
   "source": [
    "network(\n",
    "    past_target=out['past_target'],\n",
    "    past_feat_dynamic_real: Optional[Tensor],\n",
    "    past_feat_dynamic_cat: Optional[Tensor],\n",
    "    past_observed_values: Tensor,\n",
    "    future_target: Tensor,\n",
    "    future_feat_dynamic_real: Optional[Tensor],\n",
    "    future_feat_dynamic_cat: Optional[Tensor],\n",
    "    future_observed_values: Tensor,\n",
    "    feat_static_real: Optional[Tensor],\n",
    "    feat_static_cat: Optional[Tensor],\n",
    "    quantiles: Tensor\n",
    ")"
   ]
  },
  {
   "cell_type": "code",
   "execution_count": null,
   "metadata": {
    "tags": []
   },
   "outputs": [],
   "source": [
    "ele = get_dataset(\"electricity\", regenerate=True)"
   ]
  },
  {
   "cell_type": "code",
   "execution_count": 11,
   "metadata": {},
   "outputs": [],
   "source": [
    "transform = estimator.create_transformation()"
   ]
  },
  {
   "cell_type": "code",
   "execution_count": null,
   "metadata": {},
   "outputs": [],
   "source": [
    "next(iter(ele.train))"
   ]
  },
  {
   "cell_type": "code",
   "execution_count": null,
   "metadata": {},
   "outputs": [],
   "source": [
    "ele.metadata"
   ]
  },
  {
   "cell_type": "code",
   "execution_count": null,
   "metadata": {},
   "outputs": [],
   "source": [
    "deepar = DeepAREstimator(\n",
    "    freq='h',\n",
    "    prediction_length=24,\n",
    ")"
   ]
  },
  {
   "cell_type": "code",
   "execution_count": null,
   "metadata": {},
   "outputs": [],
   "source": []
  }
 ],
 "metadata": {
  "kernelspec": {
   "display_name": "Python 3.6.10 64-bit ('mxnet_p36': conda)",
   "language": "python",
   "name": "python_defaultSpec_1595110041889"
  },
  "language_info": {
   "codemirror_mode": {
    "name": "ipython",
    "version": 3
   },
   "file_extension": ".py",
   "mimetype": "text/x-python",
   "name": "python",
   "nbconvert_exporter": "python",
   "pygments_lexer": "ipython3",
   "version": "3.6.5"
  }
 },
 "nbformat": 4,
 "nbformat_minor": 4
}